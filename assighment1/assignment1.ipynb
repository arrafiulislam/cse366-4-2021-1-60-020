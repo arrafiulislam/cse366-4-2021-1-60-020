{
  "nbformat": 4,
  "nbformat_minor": 0,
  "metadata": {
    "colab": {
      "provenance": []
    },
    "kernelspec": {
      "name": "python3",
      "display_name": "Python 3"
    },
    "language_info": {
      "name": "python"
    }
  },
  "cells": [
    {
      "cell_type": "code",
      "execution_count": null,
      "metadata": {
        "id": "NzY6dXzYzfvG"
      },
      "outputs": [],
      "source": [
        "import numpy as np\n",
        "import matplotlib.pyplot as plt\n",
        "from collections import deque\n",
        "import heapq\n",
        "\n",
        "class PriorityQueue:\n",
        "    def __init__(self):\n",
        "        self.elements = []\n",
        "\n",
        "    def empty(self):\n",
        "        return len(self.elements) == 0\n",
        "\n",
        "    def put(self, item, priority):\n",
        "        heapq.heappush(self.elements, (priority, item))\n",
        "\n",
        "    def get(self):\n",
        "        return heapq.heappop(self.elements)[1]\n",
        "\n",
        "\n",
        "class Node:\n",
        "    def __init__(self, state, parent=None, action=None, path_cost=0, battery_level=100):\n",
        "        self.state = state\n",
        "        self.parent = parent\n",
        "        self.action = action\n",
        "        self.path_cost = path_cost\n",
        "        self.battery_level = battery_level\n",
        "\n",
        "    def __lt__(self, other):\n",
        "        return self.path_cost < other.path_cost"
      ]
    },
    {
      "cell_type": "code",
      "source": [
        "class Environment:\n",
        "    def __init__(self, grid, start, goal):\n",
        "        self.grid = grid\n",
        "        self.initial = start\n",
        "        self.goal = goal\n",
        "\n",
        "    def actions(self, state):\n",
        "        possible_actions = ['UP', 'DOWN', 'LEFT', 'RIGHT']\n",
        "        x, y = state\n",
        "\n",
        "        if x == 0 or self.grid[x - 1][y] == 1:\n",
        "            possible_actions.remove('UP')\n",
        "        if x == len(self.grid) - 1 or self.grid[x + 1][y] == 1:\n",
        "            possible_actions.remove('DOWN')\n",
        "        if y == 0 or self.grid[x][y - 1] == 1:\n",
        "            possible_actions.remove('LEFT')\n",
        "        if y == len(self.grid[0]) - 1 or self.grid[x][y + 1] == 1:\n",
        "            possible_actions.remove('RIGHT')\n",
        "\n",
        "        return possible_actions\n",
        "\n",
        "    def result(self, state, action):\n",
        "        x, y = state\n",
        "        if action == 'UP':\n",
        "            return (x - 1, y)\n",
        "        if action == 'DOWN':\n",
        "            return (x + 1, y)\n",
        "        if action == 'LEFT':\n",
        "            return (x, y - 1)\n",
        "        if action == 'RIGHT':\n",
        "            return (x, y + 1)\n",
        "\n",
        "    def is_goal(self, state):\n",
        "        return state == self.goal"
      ],
      "metadata": {
        "id": "x7ZhmfIR9xGz"
      },
      "execution_count": null,
      "outputs": []
    },
    {
      "cell_type": "code",
      "source": [
        "class Agent:\n",
        "    def __init__(self, env):\n",
        "        self.env = env\n",
        "        self.num_recharges_ucs = 0\n",
        "        self.num_recharges_astar = 0\n",
        "        self.recharged_ucs = False\n",
        "        self.recharged_astar = False\n",
        "\n",
        "    def uniform_cost_search(self):\n",
        "        start_node = Node(self.env.initial, path_cost=0)\n",
        "        frontier = PriorityQueue()\n",
        "        frontier.put(start_node, 0)\n",
        "        came_from = {self.env.initial: None}\n",
        "        cost_so_far = {self.env.initial: 0}\n",
        "        battery_level = {self.env.initial: 100}\n",
        "\n",
        "        while not frontier.empty():\n",
        "            current_node = frontier.get()\n",
        "\n",
        "            if self.env.is_goal(current_node.state):\n",
        "                return self.reconstruct_path(came_from, current_node.state)\n",
        "\n",
        "            for action in self.env.actions(current_node.state):\n",
        "                new_state = self.env.result(current_node.state, action)\n",
        "                new_cost = cost_so_far[current_node.state] + 1\n",
        "                new_battery = battery_level[current_node.state] - 10\n",
        "                if new_battery <= 0:\n",
        "                    if not self.recharged_ucs:\n",
        "                        self.num_recharges_ucs += 1\n",
        "                        self.recharged_ucs = True\n",
        "                    self.recharge_battery(new_state, battery_level)\n",
        "                    new_battery = 100\n",
        "                if new_state not in cost_so_far or new_cost < cost_so_far[new_state]:\n",
        "                    cost_so_far[new_state] = new_cost\n",
        "                    frontier.put(Node(new_state, current_node, action, new_cost, new_battery), new_cost)\n",
        "                    came_from[new_state] = current_node.state\n",
        "                    battery_level[new_state] = new_battery\n",
        "\n",
        "        return []\n",
        "\n",
        "    def a_star_search(self):\n",
        "        start_node = Node(self.env.initial, path_cost=0)\n",
        "        frontier = PriorityQueue()\n",
        "        frontier.put(start_node, 0)\n",
        "        came_from = {self.env.initial: None}\n",
        "        cost_so_far = {self.env.initial: 0}\n",
        "        battery_level = {self.env.initial: 100}\n",
        "\n",
        "        while not frontier.empty():\n",
        "            current_node = frontier.get()\n",
        "\n",
        "            if self.env.is_goal(current_node.state):\n",
        "                return self.reconstruct_path(came_from, current_node.state)\n",
        "\n",
        "            for action in self.env.actions(current_node.state):\n",
        "                new_state = self.env.result(current_node.state, action)\n",
        "                new_cost = cost_so_far[current_node.state] + 1\n",
        "                new_battery = battery_level[current_node.state] - 10\n",
        "                if new_battery <= 0:\n",
        "                    if not self.recharged_astar:\n",
        "                        self.num_recharges_astar += 1\n",
        "                        self.recharged_astar = True\n",
        "                    self.recharge_battery(new_state, battery_level)\n",
        "                    new_battery = 100\n",
        "                if new_state not in cost_so_far or new_cost < cost_so_far[new_state]:\n",
        "                    cost_so_far[new_state] = new_cost\n",
        "                    priority = new_cost + heuristic(new_state, self.env.goal)\n",
        "                    frontier.put(Node(new_state, current_node, action, new_cost, new_battery), priority)\n",
        "                    came_from[new_state] = current_node.state\n",
        "                    battery_level[new_state] = new_battery\n",
        "\n",
        "        return []\n",
        "\n",
        "    def reconstruct_path(self, came_from, current):\n",
        "        path = []\n",
        "        while current in came_from:\n",
        "            path.append(current)\n",
        "            current = came_from[current]\n",
        "        path.append(self.env.initial)\n",
        "        path.reverse()\n",
        "        return path\n",
        "\n",
        "    def recharge_battery(self, state, battery_level):\n",
        "        battery_level[state] = 100\n"
      ],
      "metadata": {
        "id": "i1DeCC2ZIEBC"
      },
      "execution_count": 93,
      "outputs": []
    },
    {
      "cell_type": "code",
      "source": [
        "def heuristic(state, goal):\n",
        "    x1, y1 = state\n",
        "    x2, y2 = goal\n",
        "    return abs(x2 - x1) + abs(y2 - y1)"
      ],
      "metadata": {
        "id": "y_vjsX-y-Fvs"
      },
      "execution_count": null,
      "outputs": []
    },
    {
      "cell_type": "code",
      "source": [
        "def visualize_grid_and_path(grid, path, battery_levels):\n",
        "    grid_array = np.array(grid)\n",
        "    fig, ax = plt.subplots()\n",
        "\n",
        "    ax.imshow(grid_array, cmap='Greys', alpha=0.3)  # Grid background.\n",
        "    start = path[0]\n",
        "    goal = path[-1]\n",
        "    ax.plot(start[1], start[0], 'bs', markersize=10)  # Start position in blue.\n",
        "    ax.plot(goal[1], goal[0], 'gs', markersize=10)  # Goal position in green.\n",
        "    xs, ys = zip(*path)  # Extract X and Y coordinates of the path.\n",
        "    ax.plot(ys, xs, 'r-', linewidth=2)  # Plot the path in red.\n",
        "    ax.set_xticks(np.arange(-.5, len(grid[0]), 1), minor=True)\n",
        "    ax.set_yticks(np.arange(-.5, len(grid), 1), minor=True)\n",
        "    ax.grid(which=\"minor\", color=\"b\", linestyle='-', linewidth=1)\n",
        "    ax.tick_params(which=\"minor\", size=0)\n",
        "    ax.tick_params(which=\"major\", bottom=False, left=False, labelbottom=False, labelleft=False)\n",
        "\n",
        "    # Print battery level alongside each step\n",
        "    for i, (x, y) in enumerate(path):\n",
        "        battery_level = battery_levels[i]\n",
        "        ax.text(y, x, f'{battery_level}%', color='black', ha='center', va='center')\n",
        "\n",
        "    plt.show()\n"
      ],
      "metadata": {
        "id": "AszL53li-JOL"
      },
      "execution_count": null,
      "outputs": []
    },
    {
      "cell_type": "code",
      "source": [
        "grid = [\n",
        "    [0, 0, 0, 0, 0, 0, 0, 0, 0, 0],\n",
        "    [0, 1, 1, 1, 1, 1, 1, 1, 1, 0],\n",
        "    [0, 1, 0, 0, 0, 0, 0, 0, 0, 0],\n",
        "    [0, 1, 1, 1, 0, 1, 1, 1, 1, 0],\n",
        "    [0, 0, 0, 0, 0, 0, 0, 0, 0, 0],\n",
        "    [0, 1, 1, 1, 1, 1, 1, 1, 1, 0],\n",
        "    [0, 0, 0, 0, 0, 0, 0, 0, 0, 0],\n",
        "    [0, 1, 1, 1, 0, 1, 1, 1, 1, 0],\n",
        "    [0, 0, 0, 0, 0, 0, 0, 0, 0, 0],\n",
        "    [0, 1, 1, 1, 1, 1, 1, 1, 1, 0]\n",
        "]"
      ],
      "metadata": {
        "id": "tMYO2_FQ-O1S"
      },
      "execution_count": null,
      "outputs": []
    },
    {
      "cell_type": "code",
      "source": [
        "start = (0, 0)\n",
        "goal = (9, 9)\n",
        "\n",
        "environment = Environment(grid, start, goal)\n",
        "agent = Agent(environment)\n",
        "\n",
        "# Solve the problem with the Uniform Cost Search (UCS) algorithm\n",
        "solution_path_ucs = agent.uniform_cost_search()\n",
        "print(\"Solution Path (UCS):\", solution_path_ucs)\n",
        "print(\"Number of times battery recharged (UCS):\", agent.num_recharges_ucs)\n",
        "\n",
        "# Calculate battery levels for UCS\n",
        "battery_levels_ucs = [100]\n",
        "for i in range(1, len(solution_path_ucs)):\n",
        "    battery_levels_ucs.append(battery_levels_ucs[-1] - 10)\n",
        "    if battery_levels_ucs[-1] <= 0:\n",
        "        battery_levels_ucs[-1] = 100\n",
        "\n",
        "# Visualize the solution for UCS\n",
        "visualize_grid_and_path(grid, solution_path_ucs, battery_levels_ucs)\n",
        "\n",
        "# Solve the problem with the A* algorithm\n",
        "solution_path_astar = agent.a_star_search()\n",
        "print(\"Solution Path (A*):\", solution_path_astar)\n",
        "print(\"Number of times battery recharged (A*):\", agent.num_recharges_astar)\n",
        "# Calculate battery levels for A*\n",
        "battery_levels_astar = [100]\n",
        "for i in range(1, len(solution_path_astar)):\n",
        "    battery_levels_astar.append(battery_levels_astar[-1] - 10)\n",
        "    if battery_levels_astar[-1] <= 0:\n",
        "        battery_levels_astar[-1] = 100\n",
        "\n",
        "# Visualize the solution for A*\n",
        "visualize_grid_and_path(grid, solution_path_astar, battery_levels_astar)"
      ],
      "metadata": {
        "colab": {
          "base_uri": "https://localhost:8080/",
          "height": 868
        },
        "id": "KuKCL3gM-Pt8",
        "outputId": "0d4c5e82-d189-4e27-f22c-b95dddba8203"
      },
      "execution_count": 94,
      "outputs": [
        {
          "output_type": "stream",
          "name": "stdout",
          "text": [
            "Solution Path (UCS): [(0, 0), (0, 0), (1, 0), (2, 0), (3, 0), (4, 0), (5, 0), (6, 0), (7, 0), (8, 0), (8, 1), (8, 2), (8, 3), (8, 4), (8, 5), (8, 6), (8, 7), (8, 8), (8, 9), (9, 9)]\n",
            "Number of times battery recharged (UCS): 1\n"
          ]
        },
        {
          "output_type": "display_data",
          "data": {
            "text/plain": [
              "<Figure size 640x480 with 1 Axes>"
            ],
            "image/png": "[encoded data removed]"
          },
          "metadata": {}
        },
        {
          "output_type": "stream",
          "name": "stdout",
          "text": [
            "Solution Path (A*): [(0, 0), (0, 0), (1, 0), (2, 0), (3, 0), (4, 0), (5, 0), (6, 0), (6, 1), (6, 2), (6, 3), (6, 4), (6, 5), (6, 6), (6, 7), (6, 8), (6, 9), (7, 9), (8, 9), (9, 9)]\n",
            "Number of times battery recharged (A*): 1\n"
          ]
        },
        {
          "output_type": "display_data",
          "data": {
            "text/plain": [
              "<Figure size 640x480 with 1 Axes>"
            ],
            "image/png": "[encoded data removed]"
          },
          "metadata": {}
        }
      ]
    },
    {
      "cell_type": "code",
      "source": [],
      "metadata": {
        "id": "YuUu-sikXpUF"
      },
      "execution_count": null,
      "outputs": []
    }
  ]
}